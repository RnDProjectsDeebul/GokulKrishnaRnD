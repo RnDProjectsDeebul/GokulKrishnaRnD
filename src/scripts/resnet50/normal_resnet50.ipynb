{
 "cells": [
  {
   "cell_type": "code",
   "execution_count": 1,
   "id": "f817363e-a816-4ea0-87cb-d035fdbcfc17",
   "metadata": {},
   "outputs": [],
   "source": [
    "import torch\n",
    "from torch.utils.data import Dataset, DataLoader\n",
    "from torchvision import transforms\n",
    "from PIL import Image\n",
    "import json\n",
    "import os, json, cv2, numpy as np, matplotlib.pyplot as plt, yaml\n",
    "import pandas as pd\n",
    "import torchvision.models as models\n",
    "import torch.nn as nn"
   ]
  },
  {
   "cell_type": "code",
   "execution_count": 2,
   "id": "bb47dca2-f10e-4052-abe1-b8e1832880cd",
   "metadata": {},
   "outputs": [],
   "source": [
    "transform = transforms.Compose([\n",
    "    transforms.Resize((224, 224)),\n",
    "    transforms.ToTensor()\n",
    "])\n",
    "\n",
    "def load_class_info(yaml_file):\n",
    "    with open(yaml_file, 'r') as file:\n",
    "            class_info = yaml.safe_load(file)\n",
    "    return class_info['classes']"
   ]
  },
  {
   "cell_type": "code",
   "execution_count": 3,
   "id": "1765e611-663e-482e-ac4c-fed6e0dc27b1",
   "metadata": {},
   "outputs": [],
   "source": [
    "class ClassDataset(Dataset):\n",
    "    def __init__(self, dataset_folder, class_info_file, transform=None, demo=False):\n",
    "        self.dataset_folder = dataset_folder\n",
    "        self.transform = transform\n",
    "        # self.label_transform = label_transform\n",
    "        self.demo = demo\n",
    "        self.imgs_files = self.load_data(dataset_folder)\n",
    "        self.class_names = load_class_info(class_info_file)\n",
    "        self.num_classes = len(self.class_names)\n",
    "        # self.normalize_keypoints = normalize_keypoints\n",
    "        self.class_to_idx = {class_name: idx for idx, class_name in enumerate(self.class_names)}\n",
    "        print(self.class_to_idx)\n",
    "\n",
    "    def load_data(self, dataset_folder):\n",
    "        images_path = os.path.join(self.dataset_folder,\"images/\")\n",
    "        annotations_path = os.path.join(self.dataset_folder,\"annotations/\")\n",
    "        j_data = []\n",
    "        for file in os.listdir(images_path):\n",
    "            if file.endswith(\".jpg\"):\n",
    "                json_path = os.path.join(annotations_path, file.split('.')[0] + '.json')\n",
    "                with open(json_path) as f:\n",
    "                    json_load = json.load(f)\n",
    "                    for item in json_load['shapes']:\n",
    "                        points = [value for row in item['points'] for value in row]\n",
    "                        j_data.append({'image':  os.path.join(images_path,file),\n",
    "                                     'label': item['label'],\n",
    "                                     'points':points })\n",
    "        json_data = pd.DataFrame(j_data)\n",
    "        return json_data\n",
    "\n",
    "    def get_keypoint(self, bboxes):\n",
    "        centers = []\n",
    "        for bbox in bboxes:\n",
    "            center_x = (bbox[0] + bbox[2]) / 2\n",
    "            center_y = (bbox[1] + bbox[3]) / 2\n",
    "            centers.append((center_x, center_y))\n",
    "        return centers\n",
    "    \n",
    "    def __len__(self):\n",
    "        return len(self.imgs_files)\n",
    "\n",
    "    def __getitem__(self, idx):\n",
    "        target = {}\n",
    "        img_path, label, bboxes_original = self.imgs_files.iloc[idx]\n",
    "        bboxes_original = [bboxes_original]\n",
    "        label = torch.tensor(self.class_to_idx[label], dtype=torch.int32)\n",
    "        keypoint_original = torch.tensor(self.get_keypoint(bboxes_original), dtype=torch.float32)\n",
    "        # img_original = cv2.imread(img_path)\n",
    "        # img_original = cv2.cvtColor(img_original, cv2.COLOR_BGR2RGB)\n",
    "        # img_original = read_image(img_path).float() / 255.0\n",
    "        img_original = Image.open(img_path).convert('RGB')\n",
    "\n",
    "        if self.transform:\n",
    "            img_original = self.transform(img_original)\n",
    "\n",
    "        return img_original, keypoint_original, label"
   ]
  },
  {
   "cell_type": "code",
   "execution_count": 4,
   "id": "e95a5ae8-6be2-4938-a090-b8e64b3e66b0",
   "metadata": {},
   "outputs": [
    {
     "name": "stdout",
     "output_type": "stream",
     "text": [
      "{'AllenKey': 0, 'Axis2': 1, 'Bearing2': 2, 'Drill': 3, 'F20_20_B': 4, 'F20_20_G': 5, 'Housing': 6, 'M20': 7, 'M20_100': 8, 'M30': 9, 'Motor2': 10, 'S40_40_B': 11, 'S40_40_G': 12, 'Screwdriver': 13, 'Spacer': 14, 'Wrench': 15, 'container_blue': 16, 'container_red': 17}\n"
     ]
    }
   ],
   "source": [
    "def collate_fn(batch):\n",
    "    return tuple(zip(*batch))\n",
    "    \n",
    "class_config_path = '../../config/formated_class.yaml'\n",
    "KEYPOINTS_FOLDER_TRAIN = '../../dataset/robocup_all_test/'\n",
    "train_path = os.path.join(KEYPOINTS_FOLDER_TRAIN,\"train/\")\n",
    "val_path = os.path.join(KEYPOINTS_FOLDER_TRAIN,\"val/\")\n",
    "\n",
    "dataset = ClassDataset(train_path, class_config_path, transform=transform, demo=True)\n",
    "dataloader = DataLoader(dataset, batch_size=32, shuffle=True, collate_fn=collate_fn)"
   ]
  },
  {
   "cell_type": "code",
   "execution_count": 5,
   "id": "bda234d5-c00a-4090-a9ab-7a2724b87a21",
   "metadata": {},
   "outputs": [
    {
     "name": "stdout",
     "output_type": "stream",
     "text": [
      "(tensor(5, dtype=torch.int32), tensor(0, dtype=torch.int32), tensor(12, dtype=torch.int32), tensor(5, dtype=torch.int32), tensor(7, dtype=torch.int32), tensor(0, dtype=torch.int32), tensor(11, dtype=torch.int32), tensor(4, dtype=torch.int32), tensor(7, dtype=torch.int32), tensor(11, dtype=torch.int32), tensor(7, dtype=torch.int32), tensor(1, dtype=torch.int32), tensor(7, dtype=torch.int32), tensor(7, dtype=torch.int32), tensor(0, dtype=torch.int32), tensor(12, dtype=torch.int32), tensor(0, dtype=torch.int32), tensor(4, dtype=torch.int32), tensor(12, dtype=torch.int32), tensor(12, dtype=torch.int32), tensor(12, dtype=torch.int32), tensor(9, dtype=torch.int32), tensor(2, dtype=torch.int32), tensor(9, dtype=torch.int32), tensor(7, dtype=torch.int32), tensor(9, dtype=torch.int32), tensor(1, dtype=torch.int32), tensor(2, dtype=torch.int32), tensor(2, dtype=torch.int32), tensor(2, dtype=torch.int32), tensor(3, dtype=torch.int32), tensor(6, dtype=torch.int32))\n",
      "(tensor([[244.5000, 327.5000]]), tensor([[555.4167, 215.6944]]), tensor([[484., 359.]]), tensor([[389.0000, 267.5000]]), tensor([[297., 321.]]), tensor([[474.1667, 240.6944]]), tensor([[216.0000, 334.5000]]), tensor([[302.5000, 290.5000]]), tensor([[438.0000, 357.5000]]), tensor([[452.5000, 361.5000]]), tensor([[348.1250, 245.2083]]), tensor([[112.0139, 283.0555]]), tensor([[453., 313.]]), tensor([[434.5000, 328.5000]]), tensor([[333.5000, 183.0000]]), tensor([[450.5000, 211.5000]]), tensor([[494., 336.]]), tensor([[518.5000, 371.5000]]), tensor([[461., 397.]]), tensor([[195.5000, 228.0000]]), tensor([[542., 287.]]), tensor([[135., 302.]]), tensor([[359.2361, 205.2778]]), tensor([[242.0000, 391.5000]]), tensor([[253.5000, 382.5000]]), tensor([[463., 305.]]), tensor([[273., 367.]]), tensor([[334.5000, 335.0000]]), tensor([[167.5000, 125.0000]]), tensor([[362.5000, 362.5000]]), tensor([[478.0000, 206.5000]]), tensor([[184.0000, 284.5000]]))\n"
     ]
    }
   ],
   "source": [
    "iterator = iter(dataloader)\n",
    "images, keypoint, label = next(iterator)\n",
    "print(label)\n",
    "print(keypoint)\n",
    "image_number = 0"
   ]
  },
  {
   "cell_type": "code",
   "execution_count": 6,
   "id": "d50a905e-e904-48e2-b537-8eb6d61d10df",
   "metadata": {},
   "outputs": [],
   "source": [
    "class ResNetModified(nn.Module):\n",
    "    # def __init__(self, base_model, num_classes):\n",
    "    #     super().__init__()\n",
    "    #     self.resnet = base_model(pretrained=True)\n",
    "    #     self.resnet.fc = nn.Linear(self.resnet.fc.in_features, num_classes + 2)  # classes + x,y for center point\n",
    "\n",
    "    # def forward(self, x):\n",
    "    #     return self.resnet(x)\n",
    "    def __init__(self, base_model, num_classes):\n",
    "        super(ResNetModified, self).__init__()\n",
    "        self.resnet = base_model(pretrained=True)\n",
    "        self.features = nn.Sequential(*list(self.resnet.children())[:-1])\n",
    "        self.classifier = nn.Linear(self.resnet.fc.in_features, num_classes)\n",
    "        self.keypoints = nn.Linear(self.resnet.fc.in_features, 2)  # x, y coordinates\n",
    "\n",
    "    def forward(self, x):\n",
    "        x = self.features(x)\n",
    "        x = torch.flatten(x, 1)\n",
    "        \n",
    "        class_output = self.classifier(x)\n",
    "        keypoints_output = self.keypoints(x)\n",
    "        \n",
    "        return class_output, keypoints_output\n"
   ]
  },
  {
   "cell_type": "code",
   "execution_count": 7,
   "id": "1498893a-3ceb-47ae-a5f0-72d43b3d1514",
   "metadata": {},
   "outputs": [
    {
     "name": "stderr",
     "output_type": "stream",
     "text": [
      "/opt/conda/lib/python3.11/site-packages/torchvision/models/_utils.py:208: UserWarning: The parameter 'pretrained' is deprecated since 0.13 and may be removed in the future, please use 'weights' instead.\n",
      "  warnings.warn(\n",
      "/opt/conda/lib/python3.11/site-packages/torchvision/models/_utils.py:223: UserWarning: Arguments other than a weight enum or `None` for 'weights' are deprecated since 0.13 and may be removed in the future. The current behavior is equivalent to passing `weights=ResNet50_Weights.IMAGENET1K_V1`. You can also use `weights=ResNet50_Weights.DEFAULT` to get the most up-to-date weights.\n",
      "  warnings.warn(msg)\n"
     ]
    }
   ],
   "source": [
    "num_classes = len(load_class_info(class_config_path))\n",
    "model = ResNetModified(models.resnet50, num_classes)\n",
    "device = torch.device('cuda' if torch.cuda.is_available() else 'cpu')\n",
    "model.to(device) \n",
    "\n",
    "optimizer = torch.optim.Adam(model.parameters(), lr=0.001)\n",
    "criterion_cls = nn.CrossEntropyLoss()\n",
    "criterion_pts = nn.MSELoss()"
   ]
  },
  {
   "cell_type": "code",
   "execution_count": 8,
   "id": "f986c5d3-c14b-4962-ad4c-7726b12473c4",
   "metadata": {},
   "outputs": [],
   "source": [
    "def train_model(model, dataloader, optimizer, num_epochs=50):\n",
    "    model.train()\n",
    "    loss_cls = []\n",
    "    loss_kpt = []\n",
    "    for epoch in range(num_epochs):\n",
    "        epoch_loss = 0\n",
    "        for images, keypoints, labels in dataloader:\n",
    "            images, keypoints, labels = torch.stack(images).to(device), torch.stack(keypoints).to(device), torch.stack(labels).to(device)\n",
    "            optimizer.zero_grad()\n",
    "            class_outputs, keypoint_outputs = model(images)\n",
    "            loss_cls = criterion_cls(class_outputs, labels)\n",
    "            loss_pts = criterion_pts(keypoint_outputs, keypoints)\n",
    "            loss = loss_pts\n",
    "            loss.backward()\n",
    "            optimizer.step()\n",
    "            train_epoch_loss += loss_cls.item()\n",
    "        train_epoch_loss /= len(dataloader.dataset)\n",
    "        loss_cls.append(epoch_loss)\n",
    "        loss_kpt.append(epoch_loss)\n",
    "        print(f'Epoch {epoch+1}/{num_epochs}, Loss: {epoch_loss:.4f}')\n",
    "    return model, loss_history"
   ]
  },
  {
   "cell_type": "code",
   "execution_count": 10,
   "id": "85c05289-2c2f-400a-aa64-8aa66d7ed41d",
   "metadata": {},
   "outputs": [
    {
     "name": "stderr",
     "output_type": "stream",
     "text": [
      "/opt/conda/lib/python3.11/site-packages/torch/nn/modules/loss.py:535: UserWarning: Using a target size (torch.Size([24, 1, 2])) that is different to the input size (torch.Size([24, 2])). This will likely lead to incorrect results due to broadcasting. Please ensure they have the same size.\n",
      "  return F.mse_loss(input, target, reduction=self.reduction)\n"
     ]
    },
    {
     "name": "stdout",
     "output_type": "stream",
     "text": [
      "Epoch 1/100, Loss: 1522.3250\n",
      "Epoch 2/100, Loss: 531.0817\n"
     ]
    },
    {
     "ename": "KeyboardInterrupt",
     "evalue": "",
     "output_type": "error",
     "traceback": [
      "\u001b[0;31m---------------------------------------------------------------------------\u001b[0m",
      "\u001b[0;31mKeyboardInterrupt\u001b[0m                         Traceback (most recent call last)",
      "Cell \u001b[0;32mIn[10], line 2\u001b[0m\n\u001b[1;32m      1\u001b[0m num_epochs \u001b[38;5;241m=\u001b[39m \u001b[38;5;241m100\u001b[39m\n\u001b[0;32m----> 2\u001b[0m model, loss_history \u001b[38;5;241m=\u001b[39m \u001b[43mtrain_model\u001b[49m\u001b[43m(\u001b[49m\u001b[43mmodel\u001b[49m\u001b[43m,\u001b[49m\u001b[43m \u001b[49m\u001b[43mdataloader\u001b[49m\u001b[43m,\u001b[49m\u001b[43m \u001b[49m\u001b[43moptimizer\u001b[49m\u001b[43m,\u001b[49m\u001b[43m \u001b[49m\u001b[43mnum_epochs\u001b[49m\u001b[43m)\u001b[49m\n\u001b[1;32m      3\u001b[0m torch\u001b[38;5;241m.\u001b[39msave(model\u001b[38;5;241m.\u001b[39mstate_dict(), \u001b[38;5;124m'\u001b[39m\u001b[38;5;124m./resnet50_normal.pth\u001b[39m\u001b[38;5;124m'\u001b[39m)\n",
      "Cell \u001b[0;32mIn[8], line 15\u001b[0m, in \u001b[0;36mtrain_model\u001b[0;34m(model, dataloader, optimizer, num_epochs)\u001b[0m\n\u001b[1;32m     13\u001b[0m     loss\u001b[38;5;241m.\u001b[39mbackward()\n\u001b[1;32m     14\u001b[0m     optimizer\u001b[38;5;241m.\u001b[39mstep()\n\u001b[0;32m---> 15\u001b[0m     epoch_loss \u001b[38;5;241m+\u001b[39m\u001b[38;5;241m=\u001b[39m \u001b[43mloss\u001b[49m\u001b[38;5;241;43m.\u001b[39;49m\u001b[43mitem\u001b[49m\u001b[43m(\u001b[49m\u001b[43m)\u001b[49m\n\u001b[1;32m     16\u001b[0m epoch_loss \u001b[38;5;241m/\u001b[39m\u001b[38;5;241m=\u001b[39m \u001b[38;5;28mlen\u001b[39m(dataloader\u001b[38;5;241m.\u001b[39mdataset)\n\u001b[1;32m     17\u001b[0m loss_history\u001b[38;5;241m.\u001b[39mappend(epoch_loss)\n",
      "\u001b[0;31mKeyboardInterrupt\u001b[0m: "
     ]
    }
   ],
   "source": [
    "num_epochs = 100\n",
    "model, loss_history = train_model(model, dataloader, optimizer, num_epochs)\n",
    "torch.save(model.state_dict(), './resnet50_normal.pth')"
   ]
  },
  {
   "cell_type": "code",
   "execution_count": 115,
   "id": "8c39a1f5-6c48-4b66-bf78-87b4141ea996",
   "metadata": {},
   "outputs": [
    {
     "ename": "SyntaxError",
     "evalue": "unterminated string literal (detected at line 6) (2431911355.py, line 6)",
     "output_type": "error",
     "traceback": [
      "\u001b[0;36m  Cell \u001b[0;32mIn[115], line 6\u001b[0;36m\u001b[0m\n\u001b[0;31m    plt.savefig('./kp_loss_train_val_'+.png', format='png')\u001b[0m\n\u001b[0m                                                         ^\u001b[0m\n\u001b[0;31mSyntaxError\u001b[0m\u001b[0;31m:\u001b[0m unterminated string literal (detected at line 6)\n"
     ]
    }
   ],
   "source": [
    "plt.plot(loss_history)\n",
    "plt.title('Training Loss Over Epochs')\n",
    "plt.xlabel('Epoch')\n",
    "plt.ylabel('Loss')\n",
    "plt.show()\n",
    "plt.savefig('./kp_loss_train_val_'+.png', format='png')"
   ]
  },
  {
   "cell_type": "code",
   "execution_count": 108,
   "id": "37389b0f-bd2a-4c8a-a777-1a0a8bf4f3fb",
   "metadata": {},
   "outputs": [
    {
     "ename": "RuntimeError",
     "evalue": "The size of tensor a (20) must match the size of tensor b (2) at non-singleton dimension 2",
     "output_type": "error",
     "traceback": [
      "\u001b[0;31m---------------------------------------------------------------------------\u001b[0m",
      "\u001b[0;31mRuntimeError\u001b[0m                              Traceback (most recent call last)",
      "Cell \u001b[0;32mIn[108], line 2\u001b[0m\n\u001b[1;32m      1\u001b[0m num_epochs \u001b[38;5;241m=\u001b[39m \u001b[38;5;241m100\u001b[39m\n\u001b[0;32m----> 2\u001b[0m model, loss_history \u001b[38;5;241m=\u001b[39m \u001b[43mtrain_model\u001b[49m\u001b[43m(\u001b[49m\u001b[43mmodel\u001b[49m\u001b[43m,\u001b[49m\u001b[43m \u001b[49m\u001b[43mdataloader\u001b[49m\u001b[43m,\u001b[49m\u001b[43m \u001b[49m\u001b[43moptimizer\u001b[49m\u001b[43m,\u001b[49m\u001b[43m \u001b[49m\u001b[43mnum_epochs\u001b[49m\u001b[43m)\u001b[49m\n\u001b[1;32m      3\u001b[0m torch\u001b[38;5;241m.\u001b[39msave(model\u001b[38;5;241m.\u001b[39mstate_dict(), \u001b[38;5;124m'\u001b[39m\u001b[38;5;124m./resnet50_normal_2.pth\u001b[39m\u001b[38;5;124m'\u001b[39m)\n",
      "Cell \u001b[0;32mIn[106], line 11\u001b[0m, in \u001b[0;36mtrain_model\u001b[0;34m(model, dataloader, optimizer, num_epochs)\u001b[0m\n\u001b[1;32m      9\u001b[0m outputs \u001b[38;5;241m=\u001b[39m model(images)\n\u001b[1;32m     10\u001b[0m \u001b[38;5;66;03m# loss_cls = criterion_cls(outputs[:, :num_classes], labels)\u001b[39;00m\n\u001b[0;32m---> 11\u001b[0m loss_pts \u001b[38;5;241m=\u001b[39m \u001b[43mcriterion_pts\u001b[49m\u001b[43m(\u001b[49m\u001b[43moutputs\u001b[49m\u001b[43m,\u001b[49m\u001b[43m \u001b[49m\u001b[43mkeypoints\u001b[49m\u001b[43m)\u001b[49m\n\u001b[1;32m     12\u001b[0m loss \u001b[38;5;241m=\u001b[39m loss_pts\n\u001b[1;32m     13\u001b[0m loss\u001b[38;5;241m.\u001b[39mbackward()\n",
      "File \u001b[0;32m/opt/conda/lib/python3.11/site-packages/torch/nn/modules/module.py:1511\u001b[0m, in \u001b[0;36mModule._wrapped_call_impl\u001b[0;34m(self, *args, **kwargs)\u001b[0m\n\u001b[1;32m   1509\u001b[0m     \u001b[38;5;28;01mreturn\u001b[39;00m \u001b[38;5;28mself\u001b[39m\u001b[38;5;241m.\u001b[39m_compiled_call_impl(\u001b[38;5;241m*\u001b[39margs, \u001b[38;5;241m*\u001b[39m\u001b[38;5;241m*\u001b[39mkwargs)  \u001b[38;5;66;03m# type: ignore[misc]\u001b[39;00m\n\u001b[1;32m   1510\u001b[0m \u001b[38;5;28;01melse\u001b[39;00m:\n\u001b[0;32m-> 1511\u001b[0m     \u001b[38;5;28;01mreturn\u001b[39;00m \u001b[38;5;28;43mself\u001b[39;49m\u001b[38;5;241;43m.\u001b[39;49m\u001b[43m_call_impl\u001b[49m\u001b[43m(\u001b[49m\u001b[38;5;241;43m*\u001b[39;49m\u001b[43margs\u001b[49m\u001b[43m,\u001b[49m\u001b[43m \u001b[49m\u001b[38;5;241;43m*\u001b[39;49m\u001b[38;5;241;43m*\u001b[39;49m\u001b[43mkwargs\u001b[49m\u001b[43m)\u001b[49m\n",
      "File \u001b[0;32m/opt/conda/lib/python3.11/site-packages/torch/nn/modules/module.py:1520\u001b[0m, in \u001b[0;36mModule._call_impl\u001b[0;34m(self, *args, **kwargs)\u001b[0m\n\u001b[1;32m   1515\u001b[0m \u001b[38;5;66;03m# If we don't have any hooks, we want to skip the rest of the logic in\u001b[39;00m\n\u001b[1;32m   1516\u001b[0m \u001b[38;5;66;03m# this function, and just call forward.\u001b[39;00m\n\u001b[1;32m   1517\u001b[0m \u001b[38;5;28;01mif\u001b[39;00m \u001b[38;5;129;01mnot\u001b[39;00m (\u001b[38;5;28mself\u001b[39m\u001b[38;5;241m.\u001b[39m_backward_hooks \u001b[38;5;129;01mor\u001b[39;00m \u001b[38;5;28mself\u001b[39m\u001b[38;5;241m.\u001b[39m_backward_pre_hooks \u001b[38;5;129;01mor\u001b[39;00m \u001b[38;5;28mself\u001b[39m\u001b[38;5;241m.\u001b[39m_forward_hooks \u001b[38;5;129;01mor\u001b[39;00m \u001b[38;5;28mself\u001b[39m\u001b[38;5;241m.\u001b[39m_forward_pre_hooks\n\u001b[1;32m   1518\u001b[0m         \u001b[38;5;129;01mor\u001b[39;00m _global_backward_pre_hooks \u001b[38;5;129;01mor\u001b[39;00m _global_backward_hooks\n\u001b[1;32m   1519\u001b[0m         \u001b[38;5;129;01mor\u001b[39;00m _global_forward_hooks \u001b[38;5;129;01mor\u001b[39;00m _global_forward_pre_hooks):\n\u001b[0;32m-> 1520\u001b[0m     \u001b[38;5;28;01mreturn\u001b[39;00m \u001b[43mforward_call\u001b[49m\u001b[43m(\u001b[49m\u001b[38;5;241;43m*\u001b[39;49m\u001b[43margs\u001b[49m\u001b[43m,\u001b[49m\u001b[43m \u001b[49m\u001b[38;5;241;43m*\u001b[39;49m\u001b[38;5;241;43m*\u001b[39;49m\u001b[43mkwargs\u001b[49m\u001b[43m)\u001b[49m\n\u001b[1;32m   1522\u001b[0m \u001b[38;5;28;01mtry\u001b[39;00m:\n\u001b[1;32m   1523\u001b[0m     result \u001b[38;5;241m=\u001b[39m \u001b[38;5;28;01mNone\u001b[39;00m\n",
      "File \u001b[0;32m/opt/conda/lib/python3.11/site-packages/torch/nn/modules/loss.py:535\u001b[0m, in \u001b[0;36mMSELoss.forward\u001b[0;34m(self, input, target)\u001b[0m\n\u001b[1;32m    534\u001b[0m \u001b[38;5;28;01mdef\u001b[39;00m \u001b[38;5;21mforward\u001b[39m(\u001b[38;5;28mself\u001b[39m, \u001b[38;5;28minput\u001b[39m: Tensor, target: Tensor) \u001b[38;5;241m-\u001b[39m\u001b[38;5;241m>\u001b[39m Tensor:\n\u001b[0;32m--> 535\u001b[0m     \u001b[38;5;28;01mreturn\u001b[39;00m \u001b[43mF\u001b[49m\u001b[38;5;241;43m.\u001b[39;49m\u001b[43mmse_loss\u001b[49m\u001b[43m(\u001b[49m\u001b[38;5;28;43minput\u001b[39;49m\u001b[43m,\u001b[49m\u001b[43m \u001b[49m\u001b[43mtarget\u001b[49m\u001b[43m,\u001b[49m\u001b[43m \u001b[49m\u001b[43mreduction\u001b[49m\u001b[38;5;241;43m=\u001b[39;49m\u001b[38;5;28;43mself\u001b[39;49m\u001b[38;5;241;43m.\u001b[39;49m\u001b[43mreduction\u001b[49m\u001b[43m)\u001b[49m\n",
      "File \u001b[0;32m/opt/conda/lib/python3.11/site-packages/torch/nn/functional.py:3338\u001b[0m, in \u001b[0;36mmse_loss\u001b[0;34m(input, target, size_average, reduce, reduction)\u001b[0m\n\u001b[1;32m   3335\u001b[0m \u001b[38;5;28;01mif\u001b[39;00m size_average \u001b[38;5;129;01mis\u001b[39;00m \u001b[38;5;129;01mnot\u001b[39;00m \u001b[38;5;28;01mNone\u001b[39;00m \u001b[38;5;129;01mor\u001b[39;00m reduce \u001b[38;5;129;01mis\u001b[39;00m \u001b[38;5;129;01mnot\u001b[39;00m \u001b[38;5;28;01mNone\u001b[39;00m:\n\u001b[1;32m   3336\u001b[0m     reduction \u001b[38;5;241m=\u001b[39m _Reduction\u001b[38;5;241m.\u001b[39mlegacy_get_string(size_average, reduce)\n\u001b[0;32m-> 3338\u001b[0m expanded_input, expanded_target \u001b[38;5;241m=\u001b[39m \u001b[43mtorch\u001b[49m\u001b[38;5;241;43m.\u001b[39;49m\u001b[43mbroadcast_tensors\u001b[49m\u001b[43m(\u001b[49m\u001b[38;5;28;43minput\u001b[39;49m\u001b[43m,\u001b[49m\u001b[43m \u001b[49m\u001b[43mtarget\u001b[49m\u001b[43m)\u001b[49m\n\u001b[1;32m   3339\u001b[0m \u001b[38;5;28;01mreturn\u001b[39;00m torch\u001b[38;5;241m.\u001b[39m_C\u001b[38;5;241m.\u001b[39m_nn\u001b[38;5;241m.\u001b[39mmse_loss(expanded_input, expanded_target, _Reduction\u001b[38;5;241m.\u001b[39mget_enum(reduction))\n",
      "File \u001b[0;32m/opt/conda/lib/python3.11/site-packages/torch/functional.py:76\u001b[0m, in \u001b[0;36mbroadcast_tensors\u001b[0;34m(*tensors)\u001b[0m\n\u001b[1;32m     74\u001b[0m \u001b[38;5;28;01mif\u001b[39;00m has_torch_function(tensors):\n\u001b[1;32m     75\u001b[0m     \u001b[38;5;28;01mreturn\u001b[39;00m handle_torch_function(broadcast_tensors, tensors, \u001b[38;5;241m*\u001b[39mtensors)\n\u001b[0;32m---> 76\u001b[0m \u001b[38;5;28;01mreturn\u001b[39;00m \u001b[43m_VF\u001b[49m\u001b[38;5;241;43m.\u001b[39;49m\u001b[43mbroadcast_tensors\u001b[49m\u001b[43m(\u001b[49m\u001b[43mtensors\u001b[49m\u001b[43m)\u001b[49m\n",
      "\u001b[0;31mRuntimeError\u001b[0m: The size of tensor a (20) must match the size of tensor b (2) at non-singleton dimension 2"
     ]
    }
   ],
   "source": [
    "num_epochs = 100\n",
    "model, loss_history = train_model(model, dataloader, optimizer, num_epochs)\n",
    "torch.save(model.state_dict(), './resnet50_normal_2.pth')"
   ]
  },
  {
   "cell_type": "code",
   "execution_count": 9,
   "id": "7f81b24e-e884-46c3-a732-aa489101a4c9",
   "metadata": {},
   "outputs": [
    {
     "ename": "RuntimeError",
     "evalue": "Error(s) in loading state_dict for ResNetModified:\n\tMissing key(s) in state_dict: \"features.0.weight\", \"features.1.weight\", \"features.1.bias\", \"features.1.running_mean\", \"features.1.running_var\", \"features.4.0.conv1.weight\", \"features.4.0.bn1.weight\", \"features.4.0.bn1.bias\", \"features.4.0.bn1.running_mean\", \"features.4.0.bn1.running_var\", \"features.4.0.conv2.weight\", \"features.4.0.bn2.weight\", \"features.4.0.bn2.bias\", \"features.4.0.bn2.running_mean\", \"features.4.0.bn2.running_var\", \"features.4.0.conv3.weight\", \"features.4.0.bn3.weight\", \"features.4.0.bn3.bias\", \"features.4.0.bn3.running_mean\", \"features.4.0.bn3.running_var\", \"features.4.0.downsample.0.weight\", \"features.4.0.downsample.1.weight\", \"features.4.0.downsample.1.bias\", \"features.4.0.downsample.1.running_mean\", \"features.4.0.downsample.1.running_var\", \"features.4.1.conv1.weight\", \"features.4.1.bn1.weight\", \"features.4.1.bn1.bias\", \"features.4.1.bn1.running_mean\", \"features.4.1.bn1.running_var\", \"features.4.1.conv2.weight\", \"features.4.1.bn2.weight\", \"features.4.1.bn2.bias\", \"features.4.1.bn2.running_mean\", \"features.4.1.bn2.running_var\", \"features.4.1.conv3.weight\", \"features.4.1.bn3.weight\", \"features.4.1.bn3.bias\", \"features.4.1.bn3.running_mean\", \"features.4.1.bn3.running_var\", \"features.4.2.conv1.weight\", \"features.4.2.bn1.weight\", \"features.4.2.bn1.bias\", \"features.4.2.bn1.running_mean\", \"features.4.2.bn1.running_var\", \"features.4.2.conv2.weight\", \"features.4.2.bn2.weight\", \"features.4.2.bn2.bias\", \"features.4.2.bn2.running_mean\", \"features.4.2.bn2.running_var\", \"features.4.2.conv3.weight\", \"features.4.2.bn3.weight\", \"features.4.2.bn3.bias\", \"features.4.2.bn3.running_mean\", \"features.4.2.bn3.running_var\", \"features.5.0.conv1.weight\", \"features.5.0.bn1.weight\", \"features.5.0.bn1.bias\", \"features.5.0.bn1.running_mean\", \"features.5.0.bn1.running_var\", \"features.5.0.conv2.weight\", \"features.5.0.bn2.weight\", \"features.5.0.bn2.bias\", \"features.5.0.bn2.running_mean\", \"features.5.0.bn2.running_var\", \"features.5.0.conv3.weight\", \"features.5.0.bn3.weight\", \"features.5.0.bn3.bias\", \"features.5.0.bn3.running_mean\", \"features.5.0.bn3.running_var\", \"features.5.0.downsample.0.weight\", \"features.5.0.downsample.1.weight\", \"features.5.0.downsample.1.bias\", \"features.5.0.downsample.1.running_mean\", \"features.5.0.downsample.1.running_var\", \"features.5.1.conv1.weight\", \"features.5.1.bn1.weight\", \"features.5.1.bn1.bias\", \"features.5.1.bn1.running_mean\", \"features.5.1.bn1.running_var\", \"features.5.1.conv2.weight\", \"features.5.1.bn2.weight\", \"features.5.1.bn2.bias\", \"features.5.1.bn2.running_mean\", \"features.5.1.bn2.running_var\", \"features.5.1.conv3.weight\", \"features.5.1.bn3.weight\", \"features.5.1.bn3.bias\", \"features.5.1.bn3.running_mean\", \"features.5.1.bn3.running_var\", \"features.5.2.conv1.weight\", \"features.5.2.bn1.weight\", \"features.5.2.bn1.bias\", \"features.5.2.bn1.running_mean\", \"features.5.2.bn1.running_var\", \"features.5.2.conv2.weight\", \"features.5.2.bn2.weight\", \"features.5.2.bn2.bias\", \"features.5.2.bn2.running_mean\", \"features.5.2.bn2.running_var\", \"features.5.2.conv3.weight\", \"features.5.2.bn3.weight\", \"features.5.2.bn3.bias\", \"features.5.2.bn3.running_mean\", \"features.5.2.bn3.running_var\", \"features.5.3.conv1.weight\", \"features.5.3.bn1.weight\", \"features.5.3.bn1.bias\", \"features.5.3.bn1.running_mean\", \"features.5.3.bn1.running_var\", \"features.5.3.conv2.weight\", \"features.5.3.bn2.weight\", \"features.5.3.bn2.bias\", \"features.5.3.bn2.running_mean\", \"features.5.3.bn2.running_var\", \"features.5.3.conv3.weight\", \"features.5.3.bn3.weight\", \"features.5.3.bn3.bias\", \"features.5.3.bn3.running_mean\", \"features.5.3.bn3.running_var\", \"features.6.0.conv1.weight\", \"features.6.0.bn1.weight\", \"features.6.0.bn1.bias\", \"features.6.0.bn1.running_mean\", \"features.6.0.bn1.running_var\", \"features.6.0.conv2.weight\", \"features.6.0.bn2.weight\", \"features.6.0.bn2.bias\", \"features.6.0.bn2.running_mean\", \"features.6.0.bn2.running_var\", \"features.6.0.conv3.weight\", \"features.6.0.bn3.weight\", \"features.6.0.bn3.bias\", \"features.6.0.bn3.running_mean\", \"features.6.0.bn3.running_var\", \"features.6.0.downsample.0.weight\", \"features.6.0.downsample.1.weight\", \"features.6.0.downsample.1.bias\", \"features.6.0.downsample.1.running_mean\", \"features.6.0.downsample.1.running_var\", \"features.6.1.conv1.weight\", \"features.6.1.bn1.weight\", \"features.6.1.bn1.bias\", \"features.6.1.bn1.running_mean\", \"features.6.1.bn1.running_var\", \"features.6.1.conv2.weight\", \"features.6.1.bn2.weight\", \"features.6.1.bn2.bias\", \"features.6.1.bn2.running_mean\", \"features.6.1.bn2.running_var\", \"features.6.1.conv3.weight\", \"features.6.1.bn3.weight\", \"features.6.1.bn3.bias\", \"features.6.1.bn3.running_mean\", \"features.6.1.bn3.running_var\", \"features.6.2.conv1.weight\", \"features.6.2.bn1.weight\", \"features.6.2.bn1.bias\", \"features.6.2.bn1.running_mean\", \"features.6.2.bn1.running_var\", \"features.6.2.conv2.weight\", \"features.6.2.bn2.weight\", \"features.6.2.bn2.bias\", \"features.6.2.bn2.running_mean\", \"features.6.2.bn2.running_var\", \"features.6.2.conv3.weight\", \"features.6.2.bn3.weight\", \"features.6.2.bn3.bias\", \"features.6.2.bn3.running_mean\", \"features.6.2.bn3.running_var\", \"features.6.3.conv1.weight\", \"features.6.3.bn1.weight\", \"features.6.3.bn1.bias\", \"features.6.3.bn1.running_mean\", \"features.6.3.bn1.running_var\", \"features.6.3.conv2.weight\", \"features.6.3.bn2.weight\", \"features.6.3.bn2.bias\", \"features.6.3.bn2.running_mean\", \"features.6.3.bn2.running_var\", \"features.6.3.conv3.weight\", \"features.6.3.bn3.weight\", \"features.6.3.bn3.bias\", \"features.6.3.bn3.running_mean\", \"features.6.3.bn3.running_var\", \"features.6.4.conv1.weight\", \"features.6.4.bn1.weight\", \"features.6.4.bn1.bias\", \"features.6.4.bn1.running_mean\", \"features.6.4.bn1.running_var\", \"features.6.4.conv2.weight\", \"features.6.4.bn2.weight\", \"features.6.4.bn2.bias\", \"features.6.4.bn2.running_mean\", \"features.6.4.bn2.running_var\", \"features.6.4.conv3.weight\", \"features.6.4.bn3.weight\", \"features.6.4.bn3.bias\", \"features.6.4.bn3.running_mean\", \"features.6.4.bn3.running_var\", \"features.6.5.conv1.weight\", \"features.6.5.bn1.weight\", \"features.6.5.bn1.bias\", \"features.6.5.bn1.running_mean\", \"features.6.5.bn1.running_var\", \"features.6.5.conv2.weight\", \"features.6.5.bn2.weight\", \"features.6.5.bn2.bias\", \"features.6.5.bn2.running_mean\", \"features.6.5.bn2.running_var\", \"features.6.5.conv3.weight\", \"features.6.5.bn3.weight\", \"features.6.5.bn3.bias\", \"features.6.5.bn3.running_mean\", \"features.6.5.bn3.running_var\", \"features.7.0.conv1.weight\", \"features.7.0.bn1.weight\", \"features.7.0.bn1.bias\", \"features.7.0.bn1.running_mean\", \"features.7.0.bn1.running_var\", \"features.7.0.conv2.weight\", \"features.7.0.bn2.weight\", \"features.7.0.bn2.bias\", \"features.7.0.bn2.running_mean\", \"features.7.0.bn2.running_var\", \"features.7.0.conv3.weight\", \"features.7.0.bn3.weight\", \"features.7.0.bn3.bias\", \"features.7.0.bn3.running_mean\", \"features.7.0.bn3.running_var\", \"features.7.0.downsample.0.weight\", \"features.7.0.downsample.1.weight\", \"features.7.0.downsample.1.bias\", \"features.7.0.downsample.1.running_mean\", \"features.7.0.downsample.1.running_var\", \"features.7.1.conv1.weight\", \"features.7.1.bn1.weight\", \"features.7.1.bn1.bias\", \"features.7.1.bn1.running_mean\", \"features.7.1.bn1.running_var\", \"features.7.1.conv2.weight\", \"features.7.1.bn2.weight\", \"features.7.1.bn2.bias\", \"features.7.1.bn2.running_mean\", \"features.7.1.bn2.running_var\", \"features.7.1.conv3.weight\", \"features.7.1.bn3.weight\", \"features.7.1.bn3.bias\", \"features.7.1.bn3.running_mean\", \"features.7.1.bn3.running_var\", \"features.7.2.conv1.weight\", \"features.7.2.bn1.weight\", \"features.7.2.bn1.bias\", \"features.7.2.bn1.running_mean\", \"features.7.2.bn1.running_var\", \"features.7.2.conv2.weight\", \"features.7.2.bn2.weight\", \"features.7.2.bn2.bias\", \"features.7.2.bn2.running_mean\", \"features.7.2.bn2.running_var\", \"features.7.2.conv3.weight\", \"features.7.2.bn3.weight\", \"features.7.2.bn3.bias\", \"features.7.2.bn3.running_mean\", \"features.7.2.bn3.running_var\", \"classifier.weight\", \"classifier.bias\", \"keypoints.weight\", \"keypoints.bias\". \n\tsize mismatch for resnet.fc.weight: copying a param with shape torch.Size([20, 2048]) from checkpoint, the shape in current model is torch.Size([1000, 2048]).\n\tsize mismatch for resnet.fc.bias: copying a param with shape torch.Size([20]) from checkpoint, the shape in current model is torch.Size([1000]).",
     "output_type": "error",
     "traceback": [
      "\u001b[0;31m---------------------------------------------------------------------------\u001b[0m",
      "\u001b[0;31mRuntimeError\u001b[0m                              Traceback (most recent call last)",
      "Cell \u001b[0;32mIn[9], line 1\u001b[0m\n\u001b[0;32m----> 1\u001b[0m \u001b[43mmodel\u001b[49m\u001b[38;5;241;43m.\u001b[39;49m\u001b[43mload_state_dict\u001b[49m\u001b[43m(\u001b[49m\u001b[43mtorch\u001b[49m\u001b[38;5;241;43m.\u001b[39;49m\u001b[43mload\u001b[49m\u001b[43m(\u001b[49m\u001b[38;5;124;43m'\u001b[39;49m\u001b[38;5;124;43m./models/resnet50_normal_1.pth\u001b[39;49m\u001b[38;5;124;43m'\u001b[39;49m\u001b[43m)\u001b[49m\u001b[43m)\u001b[49m\n\u001b[1;32m      2\u001b[0m model\u001b[38;5;241m.\u001b[39meval()  \u001b[38;5;66;03m# Switch to evaluation mode\u001b[39;00m\n\u001b[1;32m      3\u001b[0m device \u001b[38;5;241m=\u001b[39m torch\u001b[38;5;241m.\u001b[39mdevice(\u001b[38;5;124m'\u001b[39m\u001b[38;5;124mcuda\u001b[39m\u001b[38;5;124m'\u001b[39m \u001b[38;5;28;01mif\u001b[39;00m torch\u001b[38;5;241m.\u001b[39mcuda\u001b[38;5;241m.\u001b[39mis_available() \u001b[38;5;28;01melse\u001b[39;00m \u001b[38;5;124m'\u001b[39m\u001b[38;5;124mcpu\u001b[39m\u001b[38;5;124m'\u001b[39m)\n",
      "File \u001b[0;32m/opt/conda/lib/python3.11/site-packages/torch/nn/modules/module.py:2153\u001b[0m, in \u001b[0;36mModule.load_state_dict\u001b[0;34m(self, state_dict, strict, assign)\u001b[0m\n\u001b[1;32m   2148\u001b[0m         error_msgs\u001b[38;5;241m.\u001b[39minsert(\n\u001b[1;32m   2149\u001b[0m             \u001b[38;5;241m0\u001b[39m, \u001b[38;5;124m'\u001b[39m\u001b[38;5;124mMissing key(s) in state_dict: \u001b[39m\u001b[38;5;132;01m{}\u001b[39;00m\u001b[38;5;124m. \u001b[39m\u001b[38;5;124m'\u001b[39m\u001b[38;5;241m.\u001b[39mformat(\n\u001b[1;32m   2150\u001b[0m                 \u001b[38;5;124m'\u001b[39m\u001b[38;5;124m, \u001b[39m\u001b[38;5;124m'\u001b[39m\u001b[38;5;241m.\u001b[39mjoin(\u001b[38;5;124mf\u001b[39m\u001b[38;5;124m'\u001b[39m\u001b[38;5;124m\"\u001b[39m\u001b[38;5;132;01m{\u001b[39;00mk\u001b[38;5;132;01m}\u001b[39;00m\u001b[38;5;124m\"\u001b[39m\u001b[38;5;124m'\u001b[39m \u001b[38;5;28;01mfor\u001b[39;00m k \u001b[38;5;129;01min\u001b[39;00m missing_keys)))\n\u001b[1;32m   2152\u001b[0m \u001b[38;5;28;01mif\u001b[39;00m \u001b[38;5;28mlen\u001b[39m(error_msgs) \u001b[38;5;241m>\u001b[39m \u001b[38;5;241m0\u001b[39m:\n\u001b[0;32m-> 2153\u001b[0m     \u001b[38;5;28;01mraise\u001b[39;00m \u001b[38;5;167;01mRuntimeError\u001b[39;00m(\u001b[38;5;124m'\u001b[39m\u001b[38;5;124mError(s) in loading state_dict for \u001b[39m\u001b[38;5;132;01m{}\u001b[39;00m\u001b[38;5;124m:\u001b[39m\u001b[38;5;130;01m\\n\u001b[39;00m\u001b[38;5;130;01m\\t\u001b[39;00m\u001b[38;5;132;01m{}\u001b[39;00m\u001b[38;5;124m'\u001b[39m\u001b[38;5;241m.\u001b[39mformat(\n\u001b[1;32m   2154\u001b[0m                        \u001b[38;5;28mself\u001b[39m\u001b[38;5;241m.\u001b[39m\u001b[38;5;18m__class__\u001b[39m\u001b[38;5;241m.\u001b[39m\u001b[38;5;18m__name__\u001b[39m, \u001b[38;5;124m\"\u001b[39m\u001b[38;5;130;01m\\n\u001b[39;00m\u001b[38;5;130;01m\\t\u001b[39;00m\u001b[38;5;124m\"\u001b[39m\u001b[38;5;241m.\u001b[39mjoin(error_msgs)))\n\u001b[1;32m   2155\u001b[0m \u001b[38;5;28;01mreturn\u001b[39;00m _IncompatibleKeys(missing_keys, unexpected_keys)\n",
      "\u001b[0;31mRuntimeError\u001b[0m: Error(s) in loading state_dict for ResNetModified:\n\tMissing key(s) in state_dict: \"features.0.weight\", \"features.1.weight\", \"features.1.bias\", \"features.1.running_mean\", \"features.1.running_var\", \"features.4.0.conv1.weight\", \"features.4.0.bn1.weight\", \"features.4.0.bn1.bias\", \"features.4.0.bn1.running_mean\", \"features.4.0.bn1.running_var\", \"features.4.0.conv2.weight\", \"features.4.0.bn2.weight\", \"features.4.0.bn2.bias\", \"features.4.0.bn2.running_mean\", \"features.4.0.bn2.running_var\", \"features.4.0.conv3.weight\", \"features.4.0.bn3.weight\", \"features.4.0.bn3.bias\", \"features.4.0.bn3.running_mean\", \"features.4.0.bn3.running_var\", \"features.4.0.downsample.0.weight\", \"features.4.0.downsample.1.weight\", \"features.4.0.downsample.1.bias\", \"features.4.0.downsample.1.running_mean\", \"features.4.0.downsample.1.running_var\", \"features.4.1.conv1.weight\", \"features.4.1.bn1.weight\", \"features.4.1.bn1.bias\", \"features.4.1.bn1.running_mean\", \"features.4.1.bn1.running_var\", \"features.4.1.conv2.weight\", \"features.4.1.bn2.weight\", \"features.4.1.bn2.bias\", \"features.4.1.bn2.running_mean\", \"features.4.1.bn2.running_var\", \"features.4.1.conv3.weight\", \"features.4.1.bn3.weight\", \"features.4.1.bn3.bias\", \"features.4.1.bn3.running_mean\", \"features.4.1.bn3.running_var\", \"features.4.2.conv1.weight\", \"features.4.2.bn1.weight\", \"features.4.2.bn1.bias\", \"features.4.2.bn1.running_mean\", \"features.4.2.bn1.running_var\", \"features.4.2.conv2.weight\", \"features.4.2.bn2.weight\", \"features.4.2.bn2.bias\", \"features.4.2.bn2.running_mean\", \"features.4.2.bn2.running_var\", \"features.4.2.conv3.weight\", \"features.4.2.bn3.weight\", \"features.4.2.bn3.bias\", \"features.4.2.bn3.running_mean\", \"features.4.2.bn3.running_var\", \"features.5.0.conv1.weight\", \"features.5.0.bn1.weight\", \"features.5.0.bn1.bias\", \"features.5.0.bn1.running_mean\", \"features.5.0.bn1.running_var\", \"features.5.0.conv2.weight\", \"features.5.0.bn2.weight\", \"features.5.0.bn2.bias\", \"features.5.0.bn2.running_mean\", \"features.5.0.bn2.running_var\", \"features.5.0.conv3.weight\", \"features.5.0.bn3.weight\", \"features.5.0.bn3.bias\", \"features.5.0.bn3.running_mean\", \"features.5.0.bn3.running_var\", \"features.5.0.downsample.0.weight\", \"features.5.0.downsample.1.weight\", \"features.5.0.downsample.1.bias\", \"features.5.0.downsample.1.running_mean\", \"features.5.0.downsample.1.running_var\", \"features.5.1.conv1.weight\", \"features.5.1.bn1.weight\", \"features.5.1.bn1.bias\", \"features.5.1.bn1.running_mean\", \"features.5.1.bn1.running_var\", \"features.5.1.conv2.weight\", \"features.5.1.bn2.weight\", \"features.5.1.bn2.bias\", \"features.5.1.bn2.running_mean\", \"features.5.1.bn2.running_var\", \"features.5.1.conv3.weight\", \"features.5.1.bn3.weight\", \"features.5.1.bn3.bias\", \"features.5.1.bn3.running_mean\", \"features.5.1.bn3.running_var\", \"features.5.2.conv1.weight\", \"features.5.2.bn1.weight\", \"features.5.2.bn1.bias\", \"features.5.2.bn1.running_mean\", \"features.5.2.bn1.running_var\", \"features.5.2.conv2.weight\", \"features.5.2.bn2.weight\", \"features.5.2.bn2.bias\", \"features.5.2.bn2.running_mean\", \"features.5.2.bn2.running_var\", \"features.5.2.conv3.weight\", \"features.5.2.bn3.weight\", \"features.5.2.bn3.bias\", \"features.5.2.bn3.running_mean\", \"features.5.2.bn3.running_var\", \"features.5.3.conv1.weight\", \"features.5.3.bn1.weight\", \"features.5.3.bn1.bias\", \"features.5.3.bn1.running_mean\", \"features.5.3.bn1.running_var\", \"features.5.3.conv2.weight\", \"features.5.3.bn2.weight\", \"features.5.3.bn2.bias\", \"features.5.3.bn2.running_mean\", \"features.5.3.bn2.running_var\", \"features.5.3.conv3.weight\", \"features.5.3.bn3.weight\", \"features.5.3.bn3.bias\", \"features.5.3.bn3.running_mean\", \"features.5.3.bn3.running_var\", \"features.6.0.conv1.weight\", \"features.6.0.bn1.weight\", \"features.6.0.bn1.bias\", \"features.6.0.bn1.running_mean\", \"features.6.0.bn1.running_var\", \"features.6.0.conv2.weight\", \"features.6.0.bn2.weight\", \"features.6.0.bn2.bias\", \"features.6.0.bn2.running_mean\", \"features.6.0.bn2.running_var\", \"features.6.0.conv3.weight\", \"features.6.0.bn3.weight\", \"features.6.0.bn3.bias\", \"features.6.0.bn3.running_mean\", \"features.6.0.bn3.running_var\", \"features.6.0.downsample.0.weight\", \"features.6.0.downsample.1.weight\", \"features.6.0.downsample.1.bias\", \"features.6.0.downsample.1.running_mean\", \"features.6.0.downsample.1.running_var\", \"features.6.1.conv1.weight\", \"features.6.1.bn1.weight\", \"features.6.1.bn1.bias\", \"features.6.1.bn1.running_mean\", \"features.6.1.bn1.running_var\", \"features.6.1.conv2.weight\", \"features.6.1.bn2.weight\", \"features.6.1.bn2.bias\", \"features.6.1.bn2.running_mean\", \"features.6.1.bn2.running_var\", \"features.6.1.conv3.weight\", \"features.6.1.bn3.weight\", \"features.6.1.bn3.bias\", \"features.6.1.bn3.running_mean\", \"features.6.1.bn3.running_var\", \"features.6.2.conv1.weight\", \"features.6.2.bn1.weight\", \"features.6.2.bn1.bias\", \"features.6.2.bn1.running_mean\", \"features.6.2.bn1.running_var\", \"features.6.2.conv2.weight\", \"features.6.2.bn2.weight\", \"features.6.2.bn2.bias\", \"features.6.2.bn2.running_mean\", \"features.6.2.bn2.running_var\", \"features.6.2.conv3.weight\", \"features.6.2.bn3.weight\", \"features.6.2.bn3.bias\", \"features.6.2.bn3.running_mean\", \"features.6.2.bn3.running_var\", \"features.6.3.conv1.weight\", \"features.6.3.bn1.weight\", \"features.6.3.bn1.bias\", \"features.6.3.bn1.running_mean\", \"features.6.3.bn1.running_var\", \"features.6.3.conv2.weight\", \"features.6.3.bn2.weight\", \"features.6.3.bn2.bias\", \"features.6.3.bn2.running_mean\", \"features.6.3.bn2.running_var\", \"features.6.3.conv3.weight\", \"features.6.3.bn3.weight\", \"features.6.3.bn3.bias\", \"features.6.3.bn3.running_mean\", \"features.6.3.bn3.running_var\", \"features.6.4.conv1.weight\", \"features.6.4.bn1.weight\", \"features.6.4.bn1.bias\", \"features.6.4.bn1.running_mean\", \"features.6.4.bn1.running_var\", \"features.6.4.conv2.weight\", \"features.6.4.bn2.weight\", \"features.6.4.bn2.bias\", \"features.6.4.bn2.running_mean\", \"features.6.4.bn2.running_var\", \"features.6.4.conv3.weight\", \"features.6.4.bn3.weight\", \"features.6.4.bn3.bias\", \"features.6.4.bn3.running_mean\", \"features.6.4.bn3.running_var\", \"features.6.5.conv1.weight\", \"features.6.5.bn1.weight\", \"features.6.5.bn1.bias\", \"features.6.5.bn1.running_mean\", \"features.6.5.bn1.running_var\", \"features.6.5.conv2.weight\", \"features.6.5.bn2.weight\", \"features.6.5.bn2.bias\", \"features.6.5.bn2.running_mean\", \"features.6.5.bn2.running_var\", \"features.6.5.conv3.weight\", \"features.6.5.bn3.weight\", \"features.6.5.bn3.bias\", \"features.6.5.bn3.running_mean\", \"features.6.5.bn3.running_var\", \"features.7.0.conv1.weight\", \"features.7.0.bn1.weight\", \"features.7.0.bn1.bias\", \"features.7.0.bn1.running_mean\", \"features.7.0.bn1.running_var\", \"features.7.0.conv2.weight\", \"features.7.0.bn2.weight\", \"features.7.0.bn2.bias\", \"features.7.0.bn2.running_mean\", \"features.7.0.bn2.running_var\", \"features.7.0.conv3.weight\", \"features.7.0.bn3.weight\", \"features.7.0.bn3.bias\", \"features.7.0.bn3.running_mean\", \"features.7.0.bn3.running_var\", \"features.7.0.downsample.0.weight\", \"features.7.0.downsample.1.weight\", \"features.7.0.downsample.1.bias\", \"features.7.0.downsample.1.running_mean\", \"features.7.0.downsample.1.running_var\", \"features.7.1.conv1.weight\", \"features.7.1.bn1.weight\", \"features.7.1.bn1.bias\", \"features.7.1.bn1.running_mean\", \"features.7.1.bn1.running_var\", \"features.7.1.conv2.weight\", \"features.7.1.bn2.weight\", \"features.7.1.bn2.bias\", \"features.7.1.bn2.running_mean\", \"features.7.1.bn2.running_var\", \"features.7.1.conv3.weight\", \"features.7.1.bn3.weight\", \"features.7.1.bn3.bias\", \"features.7.1.bn3.running_mean\", \"features.7.1.bn3.running_var\", \"features.7.2.conv1.weight\", \"features.7.2.bn1.weight\", \"features.7.2.bn1.bias\", \"features.7.2.bn1.running_mean\", \"features.7.2.bn1.running_var\", \"features.7.2.conv2.weight\", \"features.7.2.bn2.weight\", \"features.7.2.bn2.bias\", \"features.7.2.bn2.running_mean\", \"features.7.2.bn2.running_var\", \"features.7.2.conv3.weight\", \"features.7.2.bn3.weight\", \"features.7.2.bn3.bias\", \"features.7.2.bn3.running_mean\", \"features.7.2.bn3.running_var\", \"classifier.weight\", \"classifier.bias\", \"keypoints.weight\", \"keypoints.bias\". \n\tsize mismatch for resnet.fc.weight: copying a param with shape torch.Size([20, 2048]) from checkpoint, the shape in current model is torch.Size([1000, 2048]).\n\tsize mismatch for resnet.fc.bias: copying a param with shape torch.Size([20]) from checkpoint, the shape in current model is torch.Size([1000])."
     ]
    }
   ],
   "source": [
    "model.load_state_dict(torch.load('./models/resnet50_normal_1.pth'))\n",
    "model.eval()  # Switch to evaluation mode\n",
    "device = torch.device('cuda' if torch.cuda.is_available() else 'cpu')\n",
    "model.to(device)\n",
    "print(\"successful\")"
   ]
  },
  {
   "cell_type": "code",
   "execution_count": null,
   "id": "e45c230f-4c66-4f9b-84c1-c47c3791b6e2",
   "metadata": {},
   "outputs": [],
   "source": []
  }
 ],
 "metadata": {
  "kernelspec": {
   "display_name": "Python [conda env:base] *",
   "language": "python",
   "name": "conda-base-py"
  },
  "language_info": {
   "codemirror_mode": {
    "name": "ipython",
    "version": 3
   },
   "file_extension": ".py",
   "mimetype": "text/x-python",
   "name": "python",
   "nbconvert_exporter": "python",
   "pygments_lexer": "ipython3",
   "version": "3.11.9"
  }
 },
 "nbformat": 4,
 "nbformat_minor": 5
}
