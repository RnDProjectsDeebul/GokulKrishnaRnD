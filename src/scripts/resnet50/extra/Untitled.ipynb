{
 "cells": [
  {
   "cell_type": "code",
   "execution_count": 1,
   "id": "87fdbd89-44c6-454d-a918-c75927de2252",
   "metadata": {},
   "outputs": [],
   "source": [
    "import numpy as np\n",
    "from itertools import combinations"
   ]
  },
  {
   "cell_type": "code",
   "execution_count": 21,
   "id": "81b387b5-ed56-47cd-a625-bb33aefe1b3f",
   "metadata": {},
   "outputs": [],
   "source": [
    "# def generate_hamming_codewords(num_classes, code_length):\n",
    "#     codewords = []\n",
    "#     for bits in combinations(range(code_length), num_classes):\n",
    "#         codeword = np.zeros(code_length, dtype=int)\n",
    "#         codeword[list(bits)] = 1\n",
    "#         codewords.append(codeword)\n",
    "#     return codewords[:num_classes]"
   ]
  },
  {
   "cell_type": "code",
   "execution_count": 22,
   "id": "4808d234-cd21-4d9b-b8f4-f8e5ffbc27a6",
   "metadata": {},
   "outputs": [],
   "source": [
    "# num_classes = 18\n",
    "# code_length = 16  # Example code length for Hamming code, should be chosen based on your ECC needs\n",
    "# codewords = generate_hamming_codewords(num_classes, code_length)\n",
    "\n",
    "# print(codewords)"
   ]
  },
  {
   "cell_type": "code",
   "execution_count": 2,
   "id": "1bc7bbc5-7301-4f04-8a91-e89d82e1c0a1",
   "metadata": {},
   "outputs": [],
   "source": [
    "def label_transform_ecc(classes, labels, codewords):\n",
    "    class_to_index = {class_name: index for index, class_name in enumerate(classes)}\n",
    "    target = np.zeros(len(codewords[0]), dtype=int)\n",
    "    for label in labels:\n",
    "        if label in class_to_index:\n",
    "            index = class_to_index[label]\n",
    "            target = codewords[index]\n",
    "    return target"
   ]
  },
  {
   "cell_type": "code",
   "execution_count": 3,
   "id": "d84f975e-cf0a-492d-9eb5-6adb2a78c844",
   "metadata": {},
   "outputs": [
    {
     "data": {
      "text/plain": [
       "array([[0, 1, 1, 0, 1, 1, 1, 1, 1, 1, 1, 0, 0, 1, 0, 0],\n",
       "       [0, 0, 0, 1, 0, 1, 1, 0, 0, 1, 1, 1, 1, 0, 1, 0],\n",
       "       [1, 0, 1, 1, 0, 1, 1, 0, 0, 1, 0, 1, 1, 1, 1, 1],\n",
       "       [0, 1, 0, 1, 1, 1, 1, 0, 1, 0, 0, 1, 1, 0, 1, 0],\n",
       "       [1, 0, 0, 0, 0, 0, 1, 1, 0, 0, 0, 1, 1, 0, 1, 0],\n",
       "       [0, 1, 0, 1, 1, 1, 1, 1, 1, 0, 1, 1, 0, 0, 1, 0],\n",
       "       [0, 1, 1, 0, 1, 0, 0, 1, 0, 0, 0, 1, 1, 0, 1, 0],\n",
       "       [0, 0, 0, 0, 1, 0, 1, 0, 1, 1, 1, 1, 1, 0, 1, 1],\n",
       "       [1, 1, 0, 1, 1, 0, 0, 1, 0, 0, 0, 0, 1, 1, 0, 0],\n",
       "       [1, 0, 1, 1, 1, 1, 0, 0, 0, 1, 0, 1, 1, 1, 0, 1],\n",
       "       [0, 0, 1, 0, 1, 1, 0, 0, 1, 0, 1, 0, 1, 0, 1, 0],\n",
       "       [1, 0, 0, 0, 1, 0, 1, 0, 1, 0, 0, 0, 0, 0, 1, 0],\n",
       "       [0, 1, 0, 0, 0, 1, 0, 0, 1, 0, 1, 0, 0, 1, 1, 0],\n",
       "       [0, 0, 1, 1, 0, 0, 0, 0, 0, 1, 0, 1, 0, 0, 0, 1],\n",
       "       [1, 1, 0, 0, 1, 1, 1, 1, 0, 0, 0, 1, 1, 0, 1, 0],\n",
       "       [0, 1, 0, 1, 1, 1, 1, 0, 0, 0, 1, 1, 1, 0, 1, 1],\n",
       "       [1, 1, 0, 0, 1, 1, 0, 0, 0, 1, 1, 0, 1, 1, 1, 1],\n",
       "       [1, 0, 0, 0, 1, 0, 1, 0, 1, 1, 0, 0, 0, 1, 0, 0]])"
      ]
     },
     "execution_count": 3,
     "metadata": {},
     "output_type": "execute_result"
    }
   ],
   "source": [
    "def generate_ecc_codes(num_classes):\n",
    "    # This is a placeholder function. Use a proper ECC generator or design your own codes.\n",
    "    np.random.seed(0)  # For reproducibility\n",
    "    codes = np.random.randint(0, 2, (num_classes, 16))  # 16 bits for demonstration\n",
    "    return codes\n",
    "\n",
    "ecc_codes = generate_ecc_codes(18)\n",
    "ecc_codes\n"
   ]
  },
  {
   "cell_type": "code",
   "execution_count": 17,
   "id": "845fcffd-1b5b-403a-b52f-0e7049351ac7",
   "metadata": {},
   "outputs": [],
   "source": [
    "def ecc_encode(label, ecc_codes):\n",
    "    class_index = label.index(1)  # Assuming label is initially one-hot\n",
    "    return ecc_codes[class_index]"
   ]
  },
  {
   "cell_type": "code",
   "execution_count": 19,
   "id": "c5dbcfff-72be-4b8c-816e-57eb85ced24f",
   "metadata": {},
   "outputs": [
    {
     "ename": "ValueError",
     "evalue": "1 is not in list",
     "output_type": "error",
     "traceback": [
      "\u001b[0;31m---------------------------------------------------------------------------\u001b[0m",
      "\u001b[0;31mValueError\u001b[0m                                Traceback (most recent call last)",
      "Cell \u001b[0;32mIn[19], line 2\u001b[0m\n\u001b[1;32m      1\u001b[0m label\u001b[38;5;241m=\u001b[39m[\u001b[38;5;241m0\u001b[39m]\n\u001b[0;32m----> 2\u001b[0m encoded_label \u001b[38;5;241m=\u001b[39m \u001b[43mecc_encode\u001b[49m\u001b[43m(\u001b[49m\u001b[43mlabel\u001b[49m\u001b[43m,\u001b[49m\u001b[43m \u001b[49m\u001b[43mecc_codes\u001b[49m\u001b[43m)\u001b[49m\n",
      "Cell \u001b[0;32mIn[17], line 2\u001b[0m, in \u001b[0;36mecc_encode\u001b[0;34m(label, ecc_codes)\u001b[0m\n\u001b[1;32m      1\u001b[0m \u001b[38;5;28;01mdef\u001b[39;00m \u001b[38;5;21mecc_encode\u001b[39m(label, ecc_codes):\n\u001b[0;32m----> 2\u001b[0m     class_index \u001b[38;5;241m=\u001b[39m \u001b[43mlabel\u001b[49m\u001b[38;5;241;43m.\u001b[39;49m\u001b[43mindex\u001b[49m\u001b[43m(\u001b[49m\u001b[38;5;241;43m1\u001b[39;49m\u001b[43m)\u001b[49m  \u001b[38;5;66;03m# Assuming label is initially one-hot\u001b[39;00m\n\u001b[1;32m      3\u001b[0m     \u001b[38;5;28;01mreturn\u001b[39;00m ecc_codes[class_index]\n",
      "\u001b[0;31mValueError\u001b[0m: 1 is not in list"
     ]
    }
   ],
   "source": [
    "\n",
    "label=[0]\n",
    "encoded_label = ecc_encode(label, ecc_codes)"
   ]
  },
  {
   "cell_type": "code",
   "execution_count": null,
   "id": "ad821458-89dc-406a-a934-cbf3480aa2e1",
   "metadata": {},
   "outputs": [],
   "source": []
  }
 ],
 "metadata": {
  "kernelspec": {
   "display_name": "Python [conda env:base] *",
   "language": "python",
   "name": "conda-base-py"
  },
  "language_info": {
   "codemirror_mode": {
    "name": "ipython",
    "version": 3
   },
   "file_extension": ".py",
   "mimetype": "text/x-python",
   "name": "python",
   "nbconvert_exporter": "python",
   "pygments_lexer": "ipython3",
   "version": "3.11.9"
  }
 },
 "nbformat": 4,
 "nbformat_minor": 5
}
